{
 "cells": [
  {
   "cell_type": "code",
   "execution_count": 20,
   "id": "6417a633",
   "metadata": {},
   "outputs": [],
   "source": [
    "class Phone:\n",
    "    def make_call(self):\n",
    "        print(\"I am making a call\")\n",
    "    def play_game(self):\n",
    "        print(\"I am playing a game\")"
   ]
  },
  {
   "cell_type": "code",
   "execution_count": 21,
   "id": "a5ab6209",
   "metadata": {},
   "outputs": [],
   "source": [
    "p1 = Phone()"
   ]
  },
  {
   "cell_type": "code",
   "execution_count": 22,
   "id": "47f530ef",
   "metadata": {},
   "outputs": [
    {
     "name": "stdout",
     "output_type": "stream",
     "text": [
      "I am making a call\n"
     ]
    }
   ],
   "source": [
    "p1.make_call()"
   ]
  },
  {
   "cell_type": "code",
   "execution_count": 23,
   "id": "f3bc8c29",
   "metadata": {},
   "outputs": [
    {
     "name": "stdout",
     "output_type": "stream",
     "text": [
      "I am playing a game\n"
     ]
    }
   ],
   "source": [
    "p1.play_game()"
   ]
  },
  {
   "cell_type": "code",
   "execution_count": 24,
   "id": "0d73b620",
   "metadata": {},
   "outputs": [],
   "source": [
    "class Phone:\n",
    "    def set_color(self,color):\n",
    "        self.color=color\n",
    "    def set_cost(self,cost):\n",
    "        self.cost=cost\n",
    "    def show_color(self):\n",
    "        return self.color\n",
    "    def show_cost(self):\n",
    "        return self.cost\n",
    "    def make_call(self):\n",
    "        print(\"I am making a call\")\n",
    "    def play_game(self):\n",
    "        print(\"I am playing a game\")"
   ]
  },
  {
   "cell_type": "code",
   "execution_count": 25,
   "id": "c2415a28",
   "metadata": {},
   "outputs": [],
   "source": [
    "p2 = Phone()"
   ]
  },
  {
   "cell_type": "code",
   "execution_count": 26,
   "id": "a77f0cd3",
   "metadata": {},
   "outputs": [],
   "source": [
    "p2.set_color(\"blue\")"
   ]
  },
  {
   "cell_type": "code",
   "execution_count": 27,
   "id": "bcc143bb",
   "metadata": {},
   "outputs": [],
   "source": [
    "p2.set_cost(\"5000\")"
   ]
  },
  {
   "cell_type": "code",
   "execution_count": 28,
   "id": "59d6e18c",
   "metadata": {},
   "outputs": [
    {
     "data": {
      "text/plain": [
       "'blue'"
      ]
     },
     "execution_count": 28,
     "metadata": {},
     "output_type": "execute_result"
    }
   ],
   "source": [
    "p2.show_color()"
   ]
  },
  {
   "cell_type": "code",
   "execution_count": 29,
   "id": "465afc1d",
   "metadata": {},
   "outputs": [
    {
     "data": {
      "text/plain": [
       "'5000'"
      ]
     },
     "execution_count": 29,
     "metadata": {},
     "output_type": "execute_result"
    }
   ],
   "source": [
    "p2.show_cost()"
   ]
  },
  {
   "cell_type": "code",
   "execution_count": 30,
   "id": "fb8488f9",
   "metadata": {},
   "outputs": [
    {
     "name": "stdout",
     "output_type": "stream",
     "text": [
      "I am making a call\n"
     ]
    }
   ],
   "source": [
    "p2.make_call()"
   ]
  },
  {
   "cell_type": "code",
   "execution_count": 31,
   "id": "323f6415",
   "metadata": {},
   "outputs": [
    {
     "name": "stdout",
     "output_type": "stream",
     "text": [
      "I am playing a game\n"
     ]
    }
   ],
   "source": [
    "p2.play_game()"
   ]
  },
  {
   "cell_type": "code",
   "execution_count": 32,
   "id": "267136eb",
   "metadata": {},
   "outputs": [],
   "source": [
    "class Employee:\n",
    "    def __init__(self,name,age,salary,gender):\n",
    "        self.name = name\n",
    "        self.age = age\n",
    "        self.salary = salary\n",
    "        self.gender = gender\n",
    "    def show_employee_details(self):\n",
    "        print(\"Name of employee is\",self.name)\n",
    "        print(\"Age of employee is\",self.age)\n",
    "        print(\"Salary of employee is\",self.salary)\n",
    "        print(\"Gender of employee is\",self.gender)"
   ]
  },
  {
   "cell_type": "code",
   "execution_count": 33,
   "id": "770f4aa4",
   "metadata": {},
   "outputs": [],
   "source": [
    "p1 = Employee('Ram',32,50000,'Male')"
   ]
  },
  {
   "cell_type": "code",
   "execution_count": 34,
   "id": "7a7c9ff2",
   "metadata": {},
   "outputs": [
    {
     "name": "stdout",
     "output_type": "stream",
     "text": [
      "Name of employee is Ram\n",
      "Age of employee is 32\n",
      "Salary of employee is 50000\n",
      "Gender of employee is Male\n"
     ]
    }
   ],
   "source": [
    "p1.show_employee_details()"
   ]
  },
  {
   "cell_type": "code",
   "execution_count": 35,
   "id": "49aff916",
   "metadata": {},
   "outputs": [],
   "source": [
    "class Vehicle:\n",
    "    def __init__(self,mileage,cost):\n",
    "        self.mileage=mileage\n",
    "        self.cost = cost\n",
    "        \n",
    "    def show_vehicle_details(self):\n",
    "        print(\"Mileage of vehicle is\",self.mileage)\n",
    "        print(\"cost of vehicle is\",self.cost)\n",
    "        print(\"I am a vehicle\")"
   ]
  },
  {
   "cell_type": "code",
   "execution_count": 36,
   "id": "d711c86d",
   "metadata": {},
   "outputs": [],
   "source": [
    "v1 = Vehicle(200,200)"
   ]
  },
  {
   "cell_type": "code",
   "execution_count": 37,
   "id": "7d7d6455",
   "metadata": {},
   "outputs": [
    {
     "name": "stdout",
     "output_type": "stream",
     "text": [
      "Mileage of vehicle is 200\n",
      "cost of vehicle is 200\n",
      "I am a vehicle\n"
     ]
    }
   ],
   "source": [
    "v1.show_vehicle_details()"
   ]
  },
  {
   "cell_type": "code",
   "execution_count": 38,
   "id": "aa177197",
   "metadata": {},
   "outputs": [],
   "source": [
    "class Car(Vehicle):\n",
    "    def show_car_details(self):\n",
    "        print(\"i am a car\")"
   ]
  },
  {
   "cell_type": "code",
   "execution_count": 39,
   "id": "6c6bb54e",
   "metadata": {},
   "outputs": [],
   "source": [
    "c1 = Car(250,800)"
   ]
  },
  {
   "cell_type": "code",
   "execution_count": 40,
   "id": "a686948c",
   "metadata": {},
   "outputs": [
    {
     "name": "stdout",
     "output_type": "stream",
     "text": [
      "Mileage of vehicle is 250\n",
      "cost of vehicle is 800\n",
      "I am a vehicle\n"
     ]
    }
   ],
   "source": [
    "c1.show_vehicle_details()"
   ]
  },
  {
   "cell_type": "code",
   "execution_count": 41,
   "id": "1e586381",
   "metadata": {},
   "outputs": [
    {
     "name": "stdout",
     "output_type": "stream",
     "text": [
      "i am a car\n"
     ]
    }
   ],
   "source": [
    "c1.show_car_details()"
   ]
  },
  {
   "cell_type": "code",
   "execution_count": 42,
   "id": "492ec235",
   "metadata": {},
   "outputs": [],
   "source": [
    "class Car(Vehicle):\n",
    "    def __init__(self,mileage,cost,tyers,hp):\n",
    "        super().__init__(mileage,cost)\n",
    "        self.tyers=tyers\n",
    "        self.hp = hp\n",
    "        \n",
    "    def show_car_details(self):\n",
    "        print(\"Numbers of tyers in car:\",self.tyers)\n",
    "        print(\"Horse power of car is :\",self.hp)\n",
    "        print(\"I am a car\")"
   ]
  },
  {
   "cell_type": "code",
   "execution_count": 43,
   "id": "4f51bf64",
   "metadata": {},
   "outputs": [],
   "source": [
    "t1 = Car(600,10000000,8,999)"
   ]
  },
  {
   "cell_type": "code",
   "execution_count": 45,
   "id": "2b9ba9ec",
   "metadata": {},
   "outputs": [
    {
     "name": "stdout",
     "output_type": "stream",
     "text": [
      "Mileage of vehicle is 600\n",
      "cost of vehicle is 10000000\n",
      "I am a vehicle\n"
     ]
    }
   ],
   "source": [
    "t1.show_vehicle_details()"
   ]
  },
  {
   "cell_type": "code",
   "execution_count": 46,
   "id": "c1d95a03",
   "metadata": {},
   "outputs": [],
   "source": [
    "class Parent1:\n",
    "    def assign_string_one(self,str1):\n",
    "        self.str1=str1\n",
    "    def show_string_one(self):\n",
    "        return self.str1"
   ]
  },
  {
   "cell_type": "code",
   "execution_count": 47,
   "id": "7ba3a9c5",
   "metadata": {},
   "outputs": [],
   "source": [
    "class Parent2:\n",
    "    def assign_string_two(self,str2):\n",
    "        self.str2=str2\n",
    "    def show_string_two(self):\n",
    "        return self.str2"
   ]
  },
  {
   "cell_type": "code",
   "execution_count": 51,
   "id": "5e5326da",
   "metadata": {},
   "outputs": [],
   "source": [
    "class child(Parent1,Parent2):\n",
    "    def assign_string_three(self,str3):\n",
    "        self.str3=str3\n",
    "    def show_string_three(self):\n",
    "        return self.str3"
   ]
  },
  {
   "cell_type": "code",
   "execution_count": 52,
   "id": "c554c920",
   "metadata": {},
   "outputs": [],
   "source": [
    "my_child = child()"
   ]
  },
  {
   "cell_type": "code",
   "execution_count": 53,
   "id": "7b8452ad",
   "metadata": {},
   "outputs": [],
   "source": [
    "my_child.assign_string_one(\"i am string parent 1\")"
   ]
  },
  {
   "cell_type": "code",
   "execution_count": 54,
   "id": "311bdaae",
   "metadata": {},
   "outputs": [],
   "source": [
    "my_child.assign_string_two(\"i am string parent 2\")"
   ]
  },
  {
   "cell_type": "code",
   "execution_count": 55,
   "id": "5e7ac985",
   "metadata": {},
   "outputs": [],
   "source": [
    "my_child.assign_string_three(\"i am string of child\")"
   ]
  },
  {
   "cell_type": "code",
   "execution_count": 56,
   "id": "4d60e098",
   "metadata": {},
   "outputs": [
    {
     "data": {
      "text/plain": [
       "'i am string parent 1'"
      ]
     },
     "execution_count": 56,
     "metadata": {},
     "output_type": "execute_result"
    }
   ],
   "source": [
    "my_child.show_string_one()"
   ]
  },
  {
   "cell_type": "code",
   "execution_count": 57,
   "id": "ce128be6",
   "metadata": {},
   "outputs": [
    {
     "data": {
      "text/plain": [
       "'i am string parent 2'"
      ]
     },
     "execution_count": 57,
     "metadata": {},
     "output_type": "execute_result"
    }
   ],
   "source": [
    "my_child.show_string_two()"
   ]
  },
  {
   "cell_type": "code",
   "execution_count": 59,
   "id": "8756ebef",
   "metadata": {},
   "outputs": [
    {
     "data": {
      "text/plain": [
       "'i am string of child'"
      ]
     },
     "execution_count": 59,
     "metadata": {},
     "output_type": "execute_result"
    }
   ],
   "source": [
    "my_child.show_string_three()"
   ]
  },
  {
   "cell_type": "code",
   "execution_count": 62,
   "id": "7c05c87e",
   "metadata": {},
   "outputs": [],
   "source": [
    "class Parent():\n",
    "    def get_name(self,name):\n",
    "        self.name=name\n",
    "    def show_name(self):\n",
    "        return self.name"
   ]
  },
  {
   "cell_type": "code",
   "execution_count": 63,
   "id": "68de5357",
   "metadata": {},
   "outputs": [],
   "source": [
    "class Child(Parent):\n",
    "    def get_age(self,age):\n",
    "        self.age=age\n",
    "    def show_age(self):\n",
    "        return self.age"
   ]
  },
  {
   "cell_type": "code",
   "execution_count": 74,
   "id": "da12a125",
   "metadata": {},
   "outputs": [],
   "source": [
    "class GrandChild(Child):\n",
    "    def get_gender(self,gender):\n",
    "        self.gender=gender\n",
    "    def show_gender(self):\n",
    "        return self.gender"
   ]
  },
  {
   "cell_type": "code",
   "execution_count": 75,
   "id": "f67f6c46",
   "metadata": {},
   "outputs": [],
   "source": [
    "gc = GrandChild()"
   ]
  },
  {
   "cell_type": "code",
   "execution_count": 76,
   "id": "f0a68ff9",
   "metadata": {},
   "outputs": [],
   "source": [
    "gc.get_name(\"Bishal\")"
   ]
  },
  {
   "cell_type": "code",
   "execution_count": 77,
   "id": "589a2b95",
   "metadata": {},
   "outputs": [],
   "source": [
    "gc.get_age(21)"
   ]
  },
  {
   "cell_type": "code",
   "execution_count": 78,
   "id": "111f4797",
   "metadata": {},
   "outputs": [],
   "source": [
    "gc.get_gender('Male')"
   ]
  },
  {
   "cell_type": "code",
   "execution_count": 79,
   "id": "f40742e5",
   "metadata": {},
   "outputs": [
    {
     "data": {
      "text/plain": [
       "'Bishal'"
      ]
     },
     "execution_count": 79,
     "metadata": {},
     "output_type": "execute_result"
    }
   ],
   "source": [
    "gc.show_name()"
   ]
  },
  {
   "cell_type": "code",
   "execution_count": 80,
   "id": "76547096",
   "metadata": {},
   "outputs": [
    {
     "data": {
      "text/plain": [
       "21"
      ]
     },
     "execution_count": 80,
     "metadata": {},
     "output_type": "execute_result"
    }
   ],
   "source": [
    "gc.show_age()"
   ]
  },
  {
   "cell_type": "code",
   "execution_count": 81,
   "id": "e5040107",
   "metadata": {},
   "outputs": [
    {
     "data": {
      "text/plain": [
       "'Male'"
      ]
     },
     "execution_count": 81,
     "metadata": {},
     "output_type": "execute_result"
    }
   ],
   "source": [
    "gc.show_gender()"
   ]
  },
  {
   "cell_type": "code",
   "execution_count": null,
   "id": "aeda16a9",
   "metadata": {},
   "outputs": [],
   "source": []
  }
 ],
 "metadata": {
  "kernelspec": {
   "display_name": "Python 3 (ipykernel)",
   "language": "python",
   "name": "python3"
  },
  "language_info": {
   "codemirror_mode": {
    "name": "ipython",
    "version": 3
   },
   "file_extension": ".py",
   "mimetype": "text/x-python",
   "name": "python",
   "nbconvert_exporter": "python",
   "pygments_lexer": "ipython3",
   "version": "3.9.12"
  }
 },
 "nbformat": 4,
 "nbformat_minor": 5
}
